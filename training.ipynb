{
 "cells": [
  {
   "cell_type": "code",
   "execution_count": 1,
   "metadata": {},
   "outputs": [],
   "source": [
    "import time\n",
    "import copy\n",
    "import torch\n",
    "import torch.nn as nn\n",
    "import torch.optim as optim\n",
    "import matplotlib.pyplot as plt\n",
    "\n",
    "from torchvision import transforms, models\n",
    "from torch.utils.data import DataLoader\n",
    "from src.products_dataset import ProductsDataset\n",
    "from src.multilabel_model import MultilabelModel\n",
    "\n",
    "import os\n",
    "os.environ[\"CUDA_DEVICE_ORDER\"] = \"PCI_BUS_ID\"\n",
    "os.environ[\"CUDA_VISIBLE_DEVICES\"] = \"0\""
   ]
  },
  {
   "cell_type": "code",
   "execution_count": 14,
   "metadata": {},
   "outputs": [
    {
     "name": "stdout",
     "output_type": "stream",
     "text": [
      "cuda:0\n"
     ]
    }
   ],
   "source": [
    "data_transforms = {\n",
    "    'train': transforms.Compose([\n",
    "        transforms.Resize(224),\n",
    "        transforms.CenterCrop(224),\n",
    "#         transforms.RandomResizedCrop(224),\n",
    "        transforms.RandomHorizontalFlip(),\n",
    "#         transforms.RandomRotation(8),\n",
    "        transforms.ToTensor(),\n",
    "        transforms.Normalize(mean=[0.485, 0.456, 0.406],\n",
    "                             std=[0.229, 0.224, 0.225])\n",
    "    ]),\n",
    "    'val': transforms.Compose([\n",
    "        transforms.Resize(224),\n",
    "        transforms.CenterCrop(224),\n",
    "        transforms.ToTensor(),\n",
    "        transforms.Normalize(mean=[0.485, 0.456, 0.406],\n",
    "                             std=[0.229, 0.224, 0.225])\n",
    "    ]),\n",
    "    'test': transforms.Compose([\n",
    "        transforms.Resize(224),\n",
    "        transforms.CenterCrop(224),\n",
    "        transforms.ToTensor(),\n",
    "        transforms.Normalize(mean=[0.485, 0.456, 0.406],\n",
    "                             std=[0.229, 0.224, 0.225])])\n",
    "}\n",
    "\n",
    "datasets = {mode: ProductsDataset(xlsx_filepath='./data/products-{}.xlsx'.format(mode),\n",
    "                                  root_dir='./data/images',\n",
    "                                  transform=data_transforms[mode])\n",
    "            for mode in ['train', 'val', 'test']}\n",
    "\n",
    "dataloaders = {mode: DataLoader(datasets[mode], batch_size=64, shuffle=True, num_workers=8)\n",
    "               for mode in ['train', 'val']}\n",
    "\n",
    "dataloaders['test'] = DataLoader(datasets['test'], batch_size=64, shuffle=True, num_workers=8)\n",
    "\n",
    "device = torch.device(\"cuda:0\" if torch.cuda.is_available() else \"cpu\")\n",
    "print('Device: {}'.format(device))"
   ]
  },
  {
   "cell_type": "code",
   "execution_count": 3,
   "metadata": {
    "scrolled": true
   },
   "outputs": [],
   "source": [
    "model = MultilabelModel()"
   ]
  },
  {
   "cell_type": "code",
   "execution_count": 4,
   "metadata": {},
   "outputs": [],
   "source": [
    "model = model.to(device)\n",
    "\n",
    "class_weights = datasets['train'].classes_weights['category']\n",
    "cat_weights = torch.Tensor(list(class_weights.values())).to(device)\n",
    "category_criterion = nn.CrossEntropyLoss(weight=cat_weights)\n",
    "\n",
    "class_weights = datasets['train'].classes_weights['condition']\n",
    "cond_weights = torch.Tensor(list(class_weights.values())).to(device)\n",
    "condition_criterion = nn.CrossEntropyLoss(weight=cond_weights)\n",
    "\n",
    "optimizer = optim.SGD(model.parameters(), lr=0.001, momentum=0.9)"
   ]
  },
  {
   "cell_type": "code",
   "execution_count": 5,
   "metadata": {},
   "outputs": [],
   "source": [
    "def train_model(model, dataloaders, category_criterion, condition_criterion, optimizer, num_epochs=10):\n",
    "    tic = time.time()\n",
    "    \n",
    "    train_history = {}\n",
    "\n",
    "    best_model_weights = copy.deepcopy(model.state_dict())\n",
    "    best_cond_acc = 0.0\n",
    "    best_cat_acc = 0.0\n",
    "    \n",
    "    for epoch in range(num_epochs):\n",
    "        print('Epoch {}/{}'.format(epoch, num_epochs - 1))\n",
    "        print('-' * 10)\n",
    "\n",
    "        for mode in ['train', 'val']:\n",
    "            train_history[mode] = {}\n",
    "            train_history[mode]['loss'] = []\n",
    "            train_history[mode]['accuracy'] = []\n",
    "\n",
    "            if mode == 'train':\n",
    "                model.train()\n",
    "            else:\n",
    "                model.eval()\n",
    "            \n",
    "            running_loss = 0.0\n",
    "            cat_accuracy = 0\n",
    "            cond_accuracy = 0\n",
    "            \n",
    "            for batch in dataloaders[mode]:\n",
    "                inputs = batch['image'].to(device)\n",
    "                gt_categories = batch['category'].to(device)\n",
    "                gt_conditions = batch['condition'].to(device)\n",
    "                \n",
    "                optimizer.zero_grad()\n",
    "                \n",
    "                with torch.set_grad_enabled(mode == 'train'):\n",
    "                    out_categories, out_conditions = model(inputs)\n",
    "\n",
    "                    _, cat_predictions = torch.max(out_categories, 1)\n",
    "                    _, cond_predictions = torch.max(out_conditions, 1)\n",
    "\n",
    "                    loss_category = category_criterion(out_categories, gt_categories)\n",
    "                    loss_condition = condition_criterion(out_conditions, gt_conditions)\n",
    "                    loss = 0.8 * loss_category + 1.2 * loss_condition\n",
    "                    \n",
    "                    if mode == 'train':\n",
    "                        loss.backward()\n",
    "                        optimizer.step()\n",
    "            \n",
    "                running_loss += loss.item() * inputs.size(0)\n",
    "                cat_accuracy += torch.sum(cat_predictions == gt_categories.data)\n",
    "                cond_accuracy += torch.sum(cond_predictions == gt_conditions.data)\n",
    "            \n",
    "            epoch_loss = running_loss / len(dataloaders[mode].dataset)\n",
    "            epoch_cat_acc = cat_accuracy.double() / len(dataloaders[mode].dataset)\n",
    "            epoch_cond_acc = cond_accuracy.double() / len(dataloaders[mode].dataset)\n",
    "            \n",
    "            train_history[mode]['loss'].append(epoch_loss)\n",
    "            train_history[mode]['accuracy'].append((epoch_cat_acc, epoch_cond_acc))\n",
    "            \n",
    "            print('{} loss: {:.4f}, categories acc: {:.4f}, conditions acc: {:.4f}'.format(\n",
    "                mode, epoch_loss, epoch_cat_acc, epoch_cond_acc))\n",
    "\n",
    "            if mode == 'val' and epoch_cond_acc > best_cond_acc and epoch_cat_acc > best_cat_acc:\n",
    "                best_cond_acc = epoch_cond_acc\n",
    "                best_cat_acc = epoch_cat_acc\n",
    "                best_model_weights = copy.deepcopy(model.state_dict())\n",
    "\n",
    "        print()\n",
    "\n",
    "    time_elapsed = time.time() - tic\n",
    "    print('Training complete in {:.0f}m {:.0f}s'.format(time_elapsed // 60, time_elapsed % 60))\n",
    "    print('Best accuracies: condition: {:4f}, category: {:4f}'.format(best_cond_acc, best_cat_acc))\n",
    "\n",
    "    model.load_state_dict(best_model_weights)\n",
    "\n",
    "    return model, train_history"
   ]
  },
  {
   "cell_type": "code",
   "execution_count": 6,
   "metadata": {},
   "outputs": [
    {
     "name": "stdout",
     "output_type": "stream",
     "text": [
      "Epoch 0/9\n",
      "----------\n",
      "train loss: 3.7547, categories acc: 0.3890, conditions acc: 0.2910\n",
      "val loss: 3.2679, categories acc: 0.4527, conditions acc: 0.2827\n",
      "\n",
      "Epoch 1/9\n",
      "----------\n",
      "train loss: 2.8595, categories acc: 0.5518, conditions acc: 0.3895\n",
      "val loss: 3.1764, categories acc: 0.5700, conditions acc: 0.3964\n",
      "\n",
      "Epoch 2/9\n",
      "----------\n",
      "train loss: 2.1655, categories acc: 0.6069, conditions acc: 0.4747\n",
      "val loss: 3.1520, categories acc: 0.5564, conditions acc: 0.3682\n",
      "\n",
      "Epoch 3/9\n",
      "----------\n",
      "train loss: 1.7300, categories acc: 0.6481, conditions acc: 0.5387\n",
      "val loss: 3.1919, categories acc: 0.6009, conditions acc: 0.4200\n",
      "\n",
      "Epoch 4/9\n",
      "----------\n",
      "train loss: 1.4466, categories acc: 0.6905, conditions acc: 0.6102\n",
      "val loss: 3.6319, categories acc: 0.6227, conditions acc: 0.4627\n",
      "\n",
      "Epoch 5/9\n",
      "----------\n",
      "train loss: 1.2049, categories acc: 0.7396, conditions acc: 0.6607\n",
      "val loss: 3.7203, categories acc: 0.6327, conditions acc: 0.4900\n",
      "\n",
      "Epoch 6/9\n",
      "----------\n",
      "train loss: 1.0087, categories acc: 0.7757, conditions acc: 0.7223\n",
      "val loss: 3.9602, categories acc: 0.6336, conditions acc: 0.4882\n",
      "\n",
      "Epoch 7/9\n",
      "----------\n",
      "train loss: 0.8417, categories acc: 0.8147, conditions acc: 0.7756\n",
      "val loss: 4.3699, categories acc: 0.6391, conditions acc: 0.5091\n",
      "\n",
      "Epoch 8/9\n",
      "----------\n",
      "train loss: 0.6541, categories acc: 0.8488, conditions acc: 0.8327\n",
      "val loss: 4.4928, categories acc: 0.6445, conditions acc: 0.5155\n",
      "\n",
      "Epoch 9/9\n",
      "----------\n",
      "train loss: 0.5138, categories acc: 0.8810, conditions acc: 0.8880\n",
      "val loss: 4.6255, categories acc: 0.6500, conditions acc: 0.4918\n",
      "\n",
      "Training complete in 8m 28s\n",
      "Best accuracies: condition: 0.515455, category: 0.644545\n"
     ]
    }
   ],
   "source": [
    "model, train_history = train_model(model, dataloaders, category_criterion,\n",
    "                                   condition_criterion, optimizer, num_epochs=10)"
   ]
  },
  {
   "cell_type": "code",
   "execution_count": 12,
   "metadata": {},
   "outputs": [],
   "source": [
    "def test_model(model, dataloader):\n",
    "    tic = time.time()\n",
    "\n",
    "    model.eval()\n",
    "\n",
    "    running_cat_acc = 0\n",
    "    running_cond_acc = 0\n",
    "\n",
    "    for batch in dataloader:\n",
    "        inputs = batch['image'].to(device)\n",
    "        gt_categories = batch['category'].to(device)\n",
    "        gt_conditions = batch['condition'].to(device)\n",
    "\n",
    "        with torch.no_grad():\n",
    "            out_categories, out_conditions = model(inputs)\n",
    "\n",
    "            _, cat_predictions = torch.max(out_categories, 1)\n",
    "            _, cond_predictions = torch.max(out_conditions, 1)\n",
    "\n",
    "        running_cat_acc += torch.sum(cat_predictions == gt_categories.data)\n",
    "        running_cond_acc += torch.sum(cond_predictions == gt_conditions.data)\n",
    "\n",
    "    cat_accuracy = running_cat_acc.double() / len(dataloader.dataset)\n",
    "    cond_accuracy = running_cond_acc.double() / len(dataloader.dataset)\n",
    "\n",
    "    print('Categories accuracy: {:.4f}'.format(cat_accuracy))\n",
    "    print('Conditions accuracy: {:.4f}'.format(cond_accuracy))\n",
    "\n",
    "    time_elapsed = time.time() - tic\n",
    "    print('Testing complete in {:.0f}m {:.0f}s'.format(time_elapsed // 60, time_elapsed % 60))\n",
    "\n",
    "    return model"
   ]
  },
  {
   "cell_type": "code",
   "execution_count": 15,
   "metadata": {},
   "outputs": [
    {
     "name": "stdout",
     "output_type": "stream",
     "text": [
      "categories accuracy: 0.6312, conditions accuracy: 0.4846\n",
      "Testing complete in 0m 5s\n"
     ]
    }
   ],
   "source": [
    "tested_model = test_model(model, dataloaders['test'])"
   ]
  },
  {
   "cell_type": "markdown",
   "metadata": {},
   "source": [
    "#### categories accuracy: 0.6312, conditions accuracy: 0.4846"
   ]
  },
  {
   "cell_type": "code",
   "execution_count": 17,
   "metadata": {},
   "outputs": [],
   "source": [
    "torch.save(model.state_dict(), './weights/resnet50-10epochs-63-48.pt')"
   ]
  },
  {
   "cell_type": "code",
   "execution_count": null,
   "metadata": {},
   "outputs": [],
   "source": []
  }
 ],
 "metadata": {
  "kernelspec": {
   "display_name": "Python 3",
   "language": "python",
   "name": "python3"
  },
  "language_info": {
   "codemirror_mode": {
    "name": "ipython",
    "version": 3
   },
   "file_extension": ".py",
   "mimetype": "text/x-python",
   "name": "python",
   "nbconvert_exporter": "python",
   "pygments_lexer": "ipython3",
   "version": "3.5.2"
  }
 },
 "nbformat": 4,
 "nbformat_minor": 2
}
