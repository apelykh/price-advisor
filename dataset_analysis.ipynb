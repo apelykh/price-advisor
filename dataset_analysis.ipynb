{
 "cells": [
  {
   "cell_type": "code",
   "execution_count": 1,
   "metadata": {},
   "outputs": [],
   "source": [
    "import os\n",
    "import pandas as pd\n",
    "import numpy as np\n",
    "import matplotlib.pyplot as plt\n",
    "import ipywidgets as widgets\n",
    "from ipywidgets import interact, interactive\n",
    "from src.products_dataset import ProductsDataset"
   ]
  },
  {
   "cell_type": "code",
   "execution_count": 2,
   "metadata": {},
   "outputs": [
    {
     "name": "stdout",
     "output_type": "stream",
     "text": [
      "Raw data table length: 11128\n",
      "Filtered data table length: 11121\n"
     ]
    }
   ],
   "source": [
    "xl = pd.ExcelFile('./data/products.xlsx')\n",
    "df = xl.parse()\n",
    "print('Raw data table length: {}'.format(len(df)))\n",
    "\n",
    "# Dropping the rows with Nan value in target columns\n",
    "df = df.loc[:, ['id', 'condition', 'category']].dropna()\n",
    "df = df.reset_index(drop=True)\n",
    "print('Filtered data table length: {}'.format(len(df)))"
   ]
  },
  {
   "cell_type": "code",
   "execution_count": 11,
   "metadata": {},
   "outputs": [],
   "source": [
    "dataset = ProductsDataset(xlsx_filepath='./data/products.xlsx',\n",
    "                          root_dir='./data/images')"
   ]
  },
  {
   "cell_type": "code",
   "execution_count": 2,
   "metadata": {},
   "outputs": [
    {
     "name": "stdout",
     "output_type": "stream",
     "text": [
      "{'condition': {0: 10.831202046035806, 1: 1.0, 2: 1.0574282147315854, 3: 1.7471122112211221, 4: 64.16666666666667}, 'category': {0: 2.0, 1: 7.4787234042553195, 2: 35.15, 3: 5.428571428571429, 4: 1.3201877934272301, 5: 1.7444168734491314, 6: 1.0, 7: 1.0323054331864905, 8: 1.1986359761295822, 9: 56.24, 10: 1.0100574712643677, 11: 4.184523809523809, 12: 1.5037433155080213, 13: 3.017167381974249, 14: 1.4569948186528496}}\n"
     ]
    }
   ],
   "source": [
    "dataset = ProductsDataset(xlsx_filepath='./data/products.xlsx',\n",
    "                          root_dir='./data/images')"
   ]
  },
  {
   "cell_type": "markdown",
   "metadata": {},
   "source": [
    "---\n",
    "## Dataset visualization"
   ]
  },
  {
   "cell_type": "code",
   "execution_count": 20,
   "metadata": {},
   "outputs": [
    {
     "data": {
      "application/vnd.jupyter.widget-view+json": {
       "model_id": "6e10067bc644414fa887bab20190d2ee",
       "version_major": 2,
       "version_minor": 0
      },
      "text/plain": [
       "interactive(children=(IntSlider(value=0, continuous_update=False, description='index', max=11120), Output()), …"
      ]
     },
     "metadata": {},
     "output_type": "display_data"
    }
   ],
   "source": [
    "@interact(index=widgets.IntSlider(continuous_update=False, min=0, max=len(dataset) - 1, step=1))\n",
    "def f(index):\n",
    "    sample = dataset[index]\n",
    "    plt.imshow(sample['image'])\n",
    "    print('category: {}'.format(sample['category']))\n",
    "    print('condition: {}'.format(sample['condition']))\n",
    "    height, width = sample['image'].shape[:2]\n",
    "    print('image size: {}x{}'.format(width, height))"
   ]
  },
  {
   "cell_type": "markdown",
   "metadata": {},
   "source": [
    "---\n",
    "## Image distribution by classes"
   ]
  },
  {
   "cell_type": "code",
   "execution_count": 83,
   "metadata": {},
   "outputs": [],
   "source": [
    "def print_image_distribution(df, fields=('category', 'condition')):\n",
    "    for field in fields:\n",
    "        num_images_by_class = {}\n",
    "\n",
    "        for c in list(set(df[field])):\n",
    "            num_images_by_class[c] = sum(df[field] == c)\n",
    "        \n",
    "        print('-' * 40)\n",
    "        print('Images distribution by {}'.format(field))\n",
    "        print('-' * 40)\n",
    "        for key, value in num_images_by_class.items():\n",
    "            print('{: <31}: {}'.format(key, value))\n",
    "        print('-' * 40)\n",
    "        print('{: <31}: {}'.format('Total', len(df)))\n",
    "        print()"
   ]
  },
  {
   "cell_type": "code",
   "execution_count": 84,
   "metadata": {},
   "outputs": [
    {
     "name": "stdout",
     "output_type": "stream",
     "text": [
      "----------------------------------------\n",
      "Images distribution by category\n",
      "----------------------------------------\n",
      "Guitars                        : 1406\n",
      "Amplifiers & Effects           : 703\n",
      "Wind & Woodwind Instruments    : 965\n",
      "Drums & Percussion             : 806\n",
      "Stringed Instruments           : 935\n",
      "Instrument Accessories         : 1362\n",
      "DJ, Electronic Music & Karaoke : 1065\n",
      "Bass Guitars                   : 40\n",
      "Studio Recording Equipment     : 466\n",
      "Brass Instruments              : 259\n",
      "Microphones & Accessories      : 1392\n",
      "Live Sound & Stage             : 25\n",
      "Other                          : 336\n",
      "Band & Orchestra               : 188\n",
      "Keyboards                      : 1173\n",
      "----------------------------------------\n",
      "Total                          : 11121\n",
      "\n",
      "----------------------------------------\n",
      "Images distribution by condition\n",
      "----------------------------------------\n",
      "Poor                           : 66\n",
      "Like New                       : 4005\n",
      "New                            : 2424\n",
      "Good                           : 4235\n",
      "Fair                           : 391\n",
      "----------------------------------------\n",
      "Total                          : 11121\n",
      "\n"
     ]
    }
   ],
   "source": [
    "print_image_distribution(df)"
   ]
  },
  {
   "cell_type": "markdown",
   "metadata": {},
   "source": [
    "## Train / Val / Test split"
   ]
  },
  {
   "cell_type": "code",
   "execution_count": null,
   "metadata": {},
   "outputs": [],
   "source": [
    "df_train = pd.DataFrame()\n",
    "df_val = pd.DataFrame()\n",
    "df_test = pd.DataFrame()\n",
    "\n",
    "for cat in list(set(df['category'])):\n",
    "    cat_df = df[df['category'] == cat]\n",
    "\n",
    "    cat_df_train = cat_df.sample(frac=0.7)\n",
    "    cat_df = cat_df.drop(cat_df_train.index)\n",
    "    cat_df_val = cat_df.sample(frac=0.33)\n",
    "    cat_df_test = cat_df.drop(cat_df_val.index)\n",
    "    \n",
    "    df_train = df_train.append(cat_df_train)\n",
    "    df_val = df_val.append(cat_df_val)\n",
    "    df_test = df_test.append(cat_df_test)"
   ]
  },
  {
   "cell_type": "code",
   "execution_count": null,
   "metadata": {},
   "outputs": [],
   "source": [
    "df_train.to_excel('./data/products-train.xlsx')\n",
    "df_val.to_excel('./data/products-val.xlsx')\n",
    "df_test.to_excel('./data/products-test.xlsx')"
   ]
  },
  {
   "cell_type": "code",
   "execution_count": 86,
   "metadata": {},
   "outputs": [
    {
     "name": "stdout",
     "output_type": "stream",
     "text": [
      "----------------------------------------\n",
      "Images distribution by category\n",
      "----------------------------------------\n",
      "Guitars                        : 139\n",
      "Amplifiers & Effects           : 70\n",
      "Wind & Woodwind Instruments    : 95\n",
      "Drums & Percussion             : 80\n",
      "Stringed Instruments           : 93\n",
      "Instrument Accessories         : 135\n",
      "DJ, Electronic Music & Karaoke : 105\n",
      "Bass Guitars                   : 4\n",
      "Studio Recording Equipment     : 46\n",
      "Brass Instruments              : 26\n",
      "Microphones & Accessories      : 138\n",
      "Live Sound & Stage             : 2\n",
      "Other                          : 33\n",
      "Band & Orchestra               : 18\n",
      "Keyboards                      : 116\n",
      "----------------------------------------\n",
      "Total                          : 1100\n",
      "\n",
      "----------------------------------------\n",
      "Images distribution by condition\n",
      "----------------------------------------\n",
      "Poor                           : 4\n",
      "Like New                       : 398\n",
      "New                            : 228\n",
      "Good                           : 444\n",
      "Fair                           : 26\n",
      "----------------------------------------\n",
      "Total                          : 1100\n",
      "\n"
     ]
    }
   ],
   "source": [
    "print_image_distribution(df_val)"
   ]
  },
  {
   "cell_type": "code",
   "execution_count": null,
   "metadata": {},
   "outputs": [],
   "source": []
  }
 ],
 "metadata": {
  "kernelspec": {
   "display_name": "Python 3",
   "language": "python",
   "name": "python3"
  },
  "language_info": {
   "codemirror_mode": {
    "name": "ipython",
    "version": 3
   },
   "file_extension": ".py",
   "mimetype": "text/x-python",
   "name": "python",
   "nbconvert_exporter": "python",
   "pygments_lexer": "ipython3",
   "version": "3.5.2"
  }
 },
 "nbformat": 4,
 "nbformat_minor": 2
}
